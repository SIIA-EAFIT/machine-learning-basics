{
  "cells": [
    {
      "metadata": {},
      "cell_type": "markdown",
      "source": "# Linear regression"
    },
    {
      "metadata": {
        "trusted": true
      },
      "cell_type": "code",
      "source": "import numpy as np\n%matplotlib inline\nimport matplotlib.pyplot as plt\nfrom math import ceil, floor",
      "execution_count": 69,
      "outputs": []
    },
    {
      "metadata": {},
      "cell_type": "markdown",
      "source": "## Functions"
    },
    {
      "metadata": {},
      "cell_type": "markdown",
      "source": "### Data normalization"
    },
    {
      "metadata": {
        "trusted": true
      },
      "cell_type": "code",
      "source": "def featureNormalize(X):\n    \"\"\"Return the matrix X with the normalize data, along with the mean and the standard deviation\"\"\"\n    X_norm = X\n    mu = 0\n    sigma = 1\n    # Write here your normalization function\n    return X_norm, mu, sigma",
      "execution_count": 70,
      "outputs": []
    },
    {
      "metadata": {},
      "cell_type": "markdown",
      "source": "### Cost function"
    },
    {
      "metadata": {
        "trusted": true
      },
      "cell_type": "code",
      "source": "def computeCost(X,y, theta):\n    \"\"\"Computes the cost function J\"\"\"\n    m = len(X)\n    J = 0\n    # Write here your cost function\n    return J",
      "execution_count": 71,
      "outputs": []
    },
    {
      "metadata": {},
      "cell_type": "markdown",
      "source": "### Gradient descent"
    },
    {
      "metadata": {
        "trusted": true
      },
      "cell_type": "code",
      "source": "def gradientDescent(X,y,theta,alpha,num_iters):\n    \"\"\"Computes gradient descent and returns the calculated parameters and the history of the cost function\"\"\"\n    m = len(X)\n    J_history = np.zeros((num_iters,1))\n    for i in range(0,num_iters):\n        # Write here your gradient descent function\n        J_history[i] = computeCost(X,y,theta)\n    return theta,J_history",
      "execution_count": 72,
      "outputs": []
    },
    {
      "metadata": {},
      "cell_type": "markdown",
      "source": "### Normal Equation"
    },
    {
      "metadata": {
        "trusted": true
      },
      "cell_type": "code",
      "source": "def normalEqn(X,Y):\n    \"\"\"Calculates the prediction parameters analytically\"\"\"\n    Xt = X.transpose()\n    Xinv = np.linalg.pinv(Xt.dot(X))\n    return np.linalg.multi_dot([Xinv,Xt,Y])",
      "execution_count": 73,
      "outputs": []
    },
    {
      "metadata": {},
      "cell_type": "markdown",
      "source": "### Predictor function"
    },
    {
      "metadata": {
        "trusted": true
      },
      "cell_type": "code",
      "source": "def predict(x,theta):\n    \"\"\"Predicts a value from an array of features and an array of predicted parameters\"\"\"\n    return float(x.dot(theta))",
      "execution_count": 74,
      "outputs": []
    },
    {
      "metadata": {},
      "cell_type": "markdown",
      "source": "## Execution"
    },
    {
      "metadata": {},
      "cell_type": "markdown",
      "source": "### Load data from files"
    },
    {
      "metadata": {
        "trusted": true
      },
      "cell_type": "code",
      "source": "data1 = np.loadtxt('ex1data1.txt', delimiter=',')\ndata2 = np.loadtxt('ex1data2.txt', delimiter=',')",
      "execution_count": 75,
      "outputs": []
    },
    {
      "metadata": {
        "trusted": true
      },
      "cell_type": "code",
      "source": "X1 = data1[:,0].reshape(-1,1)\ny1 = data1[:,1].reshape(-1,1)\n\nX2 = data2[:,:2]\nX2n, mu, sigma = featureNormalize(X2)\ny2 = data2[:,2].reshape(-1,1)",
      "execution_count": 76,
      "outputs": []
    },
    {
      "metadata": {
        "trusted": true
      },
      "cell_type": "code",
      "source": "plt.plot(X1, y1, 'bo')",
      "execution_count": 77,
      "outputs": [
        {
          "output_type": "execute_result",
          "execution_count": 77,
          "data": {
            "text/plain": "[<matplotlib.lines.Line2D at 0x7f85280e8f28>]"
          },
          "metadata": {}
        },
        {
          "output_type": "display_data",
          "data": {
            "image/png": "[encoded data removed]",
            "text/plain": "<matplotlib.figure.Figure at 0x7f852813b5c0>"
          },
          "metadata": {}
        }
      ]
    },
    {
      "metadata": {
        "trusted": true
      },
      "cell_type": "code",
      "source": "theta = np.zeros((2,1))\nXi1 = np.insert(X1,0,1,axis=1)\nprint(\"Cost function result: \" + str(computeCost(Xi1, y1, theta)))",
      "execution_count": 78,
      "outputs": [
        {
          "output_type": "stream",
          "text": "Cost function result: 0\n",
          "name": "stdout"
        }
      ]
    },
    {
      "metadata": {},
      "cell_type": "markdown",
      "source": "### Gradient descent with 1 variable"
    },
    {
      "metadata": {
        "trusted": true
      },
      "cell_type": "code",
      "source": "theta1 = np.zeros((2,1))\n\niter1 = 1500\nalpha = 0.01\n\nXi1 = np.insert(X1,0,1,axis=1)\ntheta1,J_history = gradientDescent(Xi1,y1,theta1,alpha,iter1)\n\ntheta1",
      "execution_count": 79,
      "outputs": [
        {
          "output_type": "execute_result",
          "execution_count": 79,
          "data": {
            "text/plain": "array([[0.],\n       [0.]])"
          },
          "metadata": {}
        }
      ]
    },
    {
      "metadata": {
        "scrolled": true,
        "trusted": true
      },
      "cell_type": "code",
      "source": "plt.plot(J_history, 'b')",
      "execution_count": 80,
      "outputs": [
        {
          "output_type": "execute_result",
          "execution_count": 80,
          "data": {
            "text/plain": "[<matplotlib.lines.Line2D at 0x7f85280a4e80>]"
          },
          "metadata": {}
        },
        {
          "output_type": "display_data",
          "data": {
            "image/png": "[encoded data removed]",
            "text/plain": "<matplotlib.figure.Figure at 0x7f85280d0dd8>"
          },
          "metadata": {}
        }
      ]
    },
    {
      "metadata": {
        "trusted": true
      },
      "cell_type": "code",
      "source": "plt.plot(X1, y1, 'bo')\nx_plot = range(ceil(np.max(X1))+5)\ny_plot = x_plot * theta1[1] + theta1[0]\nplt.plot(x_plot, y_plot, 'r')",
      "execution_count": 81,
      "outputs": [
        {
          "output_type": "execute_result",
          "execution_count": 81,
          "data": {
            "text/plain": "[<matplotlib.lines.Line2D at 0x7f85280c2cf8>]"
          },
          "metadata": {}
        },
        {
          "output_type": "display_data",
          "data": {
            "image/png": "[encoded data removed]",
            "text/plain": "<matplotlib.figure.Figure at 0x7f85280c21d0>"
          },
          "metadata": {}
        }
      ]
    },
    {
      "metadata": {},
      "cell_type": "markdown",
      "source": "### Multiple variables"
    },
    {
      "metadata": {},
      "cell_type": "markdown",
      "source": "We normalize the data before launching gradient descent"
    },
    {
      "metadata": {
        "trusted": true
      },
      "cell_type": "code",
      "source": "theta2 = np.zeros((3,1))\nalpha2 = 0.1\niter2 = 400\nXi2 = np.insert(X2n,0,1,axis=1)\ntheta2,J_history2 = gradientDescent(Xi2,y2,theta2,alpha2,iter2)\nplt.plot(J_history2)",
      "execution_count": 82,
      "outputs": [
        {
          "output_type": "execute_result",
          "execution_count": 82,
          "data": {
            "text/plain": "[<matplotlib.lines.Line2D at 0x7f8527dea240>]"
          },
          "metadata": {}
        },
        {
          "output_type": "display_data",
          "data": {
            "image/png": "[encoded data removed]",
            "text/plain": "<matplotlib.figure.Figure at 0x7f8528048f60>"
          },
          "metadata": {}
        }
      ]
    },
    {
      "metadata": {},
      "cell_type": "markdown",
      "source": "Ecuación normal"
    },
    {
      "metadata": {
        "trusted": true
      },
      "cell_type": "code",
      "source": "theta3 = normalEqn(np.insert(X2, 0, 1, axis=1),y2)\nprint(theta3)\nprint(theta2)",
      "execution_count": 83,
      "outputs": [
        {
          "output_type": "stream",
          "text": "[[89597.90954355]\n [  139.21067402]\n [-8738.01911255]]\n[[0.]\n [0.]\n [0.]]\n",
          "name": "stdout"
        }
      ]
    },
    {
      "metadata": {},
      "cell_type": "markdown",
      "source": "### Predicción de valores"
    },
    {
      "metadata": {
        "trusted": true
      },
      "cell_type": "code",
      "source": "# Predict values for population sizes of 35,000 and 70,000\npredict1 = predict(np.array([1, 3.5]),theta1)\nprint('For population = 35,000, we predict a profit of ' + str(predict1*10000))\npredict2 = predict(np.array([1, 7.0]),theta1);\nprint('For population = 70,000, we predict a profit of ' + str(predict2*10000))",
      "execution_count": 84,
      "outputs": [
        {
          "output_type": "stream",
          "text": "For population = 35,000, we predict a profit of 0.0\nFor population = 70,000, we predict a profit of 0.0\n",
          "name": "stdout"
        }
      ]
    },
    {
      "metadata": {
        "trusted": true,
        "scrolled": true
      },
      "cell_type": "code",
      "source": "x = (np.array([1650, 3]) - mu) / sigma\npredict3 = predict(np.insert(x,0,1), theta2)\nprint('Predicted price of a 1650 sq-ft, 3 br house (using gradient descent): ' + str(predict3))\npredict4 = predict(np.array([1, 1650, 3]), theta3)\nprint('Predicted price of a 1650 sq-ft, 3 br house (using normal equation): ' + str(predict4))",
      "execution_count": 85,
      "outputs": [
        {
          "output_type": "stream",
          "text": "Predicted price of a 1650 sq-ft, 3 br house (using gradient descent): 0.0\nPredicted price of a 1650 sq-ft, 3 br house (using normal equation): 293081.4643349715\n",
          "name": "stdout"
        }
      ]
    }
  ],
  "metadata": {
    "kernelspec": {
      "name": "python3",
      "display_name": "Python 3",
      "language": "python"
    },
    "language_info": {
      "mimetype": "text/x-python",
      "nbconvert_exporter": "python",
      "name": "python",
      "file_extension": ".py",
      "version": "3.5.4",
      "pygments_lexer": "ipython3",
      "codemirror_mode": {
        "version": 3,
        "name": "ipython"
      }
    }
  },
  "nbformat": 4,
  "nbformat_minor": 2
}